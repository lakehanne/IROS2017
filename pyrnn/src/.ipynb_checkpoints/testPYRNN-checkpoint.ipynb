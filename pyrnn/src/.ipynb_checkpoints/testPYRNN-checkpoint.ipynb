{
 "cells": [
  {
   "cell_type": "code",
   "execution_count": 2,
   "metadata": {
    "collapsed": true
   },
   "outputs": [],
   "source": [
    "import torch\n",
    "from torch.autograd import Variable\n",
    "import scipy.io as sio"
   ]
  },
  {
   "cell_type": "code",
   "execution_count": 3,
   "metadata": {
    "collapsed": true
   },
   "outputs": [],
   "source": [
    "def loadSavedMatFile(x):\n",
    "\tdata = sio.loadmat(x)\n",
    "\t# populate each column of array \t#convert from numpy to torchTensor\n",
    "\tbase_in   = Variable(torch.from_numpy(data['base_in']))\n",
    "\tbase_out  = Variable(torch.from_numpy(data['base_out']))\n",
    "\tleft_in   = Variable(torch.from_numpy(data['left_in']))\n",
    "\tleft_out  = Variable(torch.from_numpy(data['left_out']))\n",
    "\tright_in  = Variable(torch.from_numpy(data['right_out']))\n",
    "\tright_out = Variable(torch.from_numpy(data['right_out']))\n",
    "\tx     \t  = Variable(torch.from_numpy(data['x']))\n",
    "\ty     \t  = Variable(torch.from_numpy(data['y']))\n",
    "\tz     \t  = Variable(torch.from_numpy(data['z']))\n",
    "\tpitch     = Variable(torch.from_numpy(data['pitch']))\n",
    "\tyaw   \t  = Variable(torch.from_numpy(data['yaw']))\n",
    "\n",
    "\treturn \tbase_in, base_out, left_in, left_out, right_in, right_out, x, y, z, pitch, yaw"
   ]
  },
  {
   "cell_type": "code",
   "execution_count": 4,
   "metadata": {
    "collapsed": true
   },
   "outputs": [],
   "source": [
    "\tbase_in, base_out, left_in, left_out, right_in, right_out, x, y, z, pitch, yaw = loadSavedMatFile(\"data/data.mat\")\n",
    "\tinputs = torch.cat((base_in, base_out, left_in, \n",
    "\t\t\t\t\t\tleft_out, right_in, right_out, \n",
    "\t\t\t\t\t\tz, pitch, yaw), 1)\n",
    "\toutputs = torch.cat((z, pitch, yaw), 1)"
   ]
  },
  {
   "cell_type": "code",
   "execution_count": 5,
   "metadata": {
    "collapsed": false
   },
   "outputs": [
    {
     "data": {
      "text/plain": [
       "Variable containing:\n",
       " 5.5145e-01  9.2310e-02  4.3225e-01  ...   2.2723e+02 -2.8985e+01  2.6139e+01\n",
       " 7.8721e-01  3.8855e-01  7.8817e-01  ...   2.2636e+02 -2.5660e+01  2.6033e+01\n",
       " 2.1740e-01  6.3569e-02  2.5554e-01  ...   2.2693e+02 -2.9475e+01  2.6398e+01\n",
       "                ...                   ⋱                   ...                \n",
       " 5.8657e-01  1.1650e-01  7.9126e-01  ...   2.2922e+02 -3.1381e+01  2.6517e+01\n",
       " 6.2890e-01  3.5325e-01  5.8741e-01  ...   2.2705e+02 -2.7445e+01  2.5507e+01\n",
       " 1.9810e-01  4.8592e-02  2.2614e-01  ...   2.2708e+02 -2.9340e+01  2.6153e+01\n",
       "[torch.DoubleTensor of size 326327x9]"
      ]
     },
     "execution_count": 5,
     "metadata": {},
     "output_type": "execute_result"
    }
   ],
   "source": [
    "inputs"
   ]
  },
  {
   "cell_type": "code",
   "execution_count": 6,
   "metadata": {
    "collapsed": true
   },
   "outputs": [],
   "source": [
    "\tN = int(inputs.size(0))\n",
    "\n",
    "\tnTrain = int(N*(1.-0.1))\n",
    "\tnTest  = N - nTrain"
   ]
  },
  {
   "cell_type": "code",
   "execution_count": 7,
   "metadata": {
    "collapsed": true
   },
   "outputs": [],
   "source": [
    "\ttrain_in = inputs[:nTrain]\n",
    "\ttrain_out = outputs[:nTrain]"
   ]
  },
  {
   "cell_type": "code",
   "execution_count": 8,
   "metadata": {
    "collapsed": false
   },
   "outputs": [
    {
     "data": {
      "text/plain": [
       "Variable containing:\n",
       " 5.5145e-01  9.2310e-02  4.3225e-01  ...   2.2723e+02 -2.8985e+01  2.6139e+01\n",
       " 7.8721e-01  3.8855e-01  7.8817e-01  ...   2.2636e+02 -2.5660e+01  2.6033e+01\n",
       " 2.1740e-01  6.3569e-02  2.5554e-01  ...   2.2693e+02 -2.9475e+01  2.6398e+01\n",
       "                ...                   ⋱                   ...                \n",
       " 5.1870e-01  2.2753e-01  2.5503e-01  ...   2.2659e+02 -3.0106e+01  2.6147e+01\n",
       " 2.6834e-01  8.3304e-02  3.4448e-02  ...   2.2637e+02 -2.9629e+01  2.6979e+01\n",
       " 7.2121e-01  1.6330e-01  6.1841e-01  ...   2.3163e+02 -2.8732e+01  2.5649e+01\n",
       "[torch.DoubleTensor of size 293694x9]"
      ]
     },
     "execution_count": 8,
     "metadata": {},
     "output_type": "execute_result"
    }
   ],
   "source": [
    "train_in"
   ]
  },
  {
   "cell_type": "code",
   "execution_count": 9,
   "metadata": {
    "collapsed": false
   },
   "outputs": [
    {
     "data": {
      "text/plain": [
       "torch.Size([293694, 9])"
      ]
     },
     "execution_count": 9,
     "metadata": {},
     "output_type": "execute_result"
    }
   ],
   "source": [
    "train_in.size()"
   ]
  },
  {
   "cell_type": "code",
   "execution_count": 10,
   "metadata": {
    "collapsed": false
   },
   "outputs": [
    {
     "data": {
      "text/plain": [
       "torch.Size([293694, 3])"
      ]
     },
     "execution_count": 10,
     "metadata": {},
     "output_type": "execute_result"
    }
   ],
   "source": [
    "train_out.size()"
   ]
  },
  {
   "cell_type": "code",
   "execution_count": 13,
   "metadata": {
    "collapsed": false
   },
   "outputs": [
    {
     "ename": "ValueError",
     "evalue": "result of slicing is an empty tensor",
     "output_type": "error",
     "traceback": [
      "\u001b[0;31m---------------------------------------------------------------------------\u001b[0m",
      "\u001b[0;31mValueError\u001b[0m                                Traceback (most recent call last)",
      "\u001b[0;32m<ipython-input-13-c4251849b7a8>\u001b[0m in \u001b[0;36m<module>\u001b[0;34m()\u001b[0m\n\u001b[1;32m      2\u001b[0m \u001b[0mtrain_out\u001b[0m \u001b[0;34m=\u001b[0m \u001b[0moutputs\u001b[0m\u001b[0;34m[\u001b[0m\u001b[0;34m:\u001b[0m\u001b[0mnTrain\u001b[0m\u001b[0;34m]\u001b[0m\u001b[0;34m\u001b[0m\u001b[0m\n\u001b[1;32m      3\u001b[0m \u001b[0mtest_in\u001b[0m \u001b[0;34m=\u001b[0m \u001b[0minputs\u001b[0m\u001b[0;34m[\u001b[0m\u001b[0mnTrain\u001b[0m\u001b[0;34m:\u001b[0m\u001b[0;34m]\u001b[0m\u001b[0;34m\u001b[0m\u001b[0m\n\u001b[0;32m----> 4\u001b[0;31m \u001b[0mtest_out\u001b[0m \u001b[0;34m=\u001b[0m \u001b[0mtrain_out\u001b[0m\u001b[0;34m[\u001b[0m\u001b[0mnTrain\u001b[0m\u001b[0;34m:\u001b[0m\u001b[0;34m]\u001b[0m\u001b[0;34m\u001b[0m\u001b[0m\n\u001b[0m",
      "\u001b[0;32m/home/lex/anaconda2/lib/python2.7/site-packages/torch/autograd/variable.pyc\u001b[0m in \u001b[0;36m__getitem__\u001b[0;34m(self, key)\u001b[0m\n\u001b[1;32m     67\u001b[0m                 type(key.data).__name__ == 'ByteTensor'):\n\u001b[1;32m     68\u001b[0m             \u001b[0;32mreturn\u001b[0m \u001b[0mMaskedSelect\u001b[0m\u001b[0;34m(\u001b[0m\u001b[0;34m)\u001b[0m\u001b[0;34m(\u001b[0m\u001b[0mself\u001b[0m\u001b[0;34m,\u001b[0m \u001b[0mkey\u001b[0m\u001b[0;34m)\u001b[0m\u001b[0;34m\u001b[0m\u001b[0m\n\u001b[0;32m---> 69\u001b[0;31m         \u001b[0;32mreturn\u001b[0m \u001b[0mIndex\u001b[0m\u001b[0;34m(\u001b[0m\u001b[0mkey\u001b[0m\u001b[0;34m)\u001b[0m\u001b[0;34m(\u001b[0m\u001b[0mself\u001b[0m\u001b[0;34m)\u001b[0m\u001b[0;34m\u001b[0m\u001b[0m\n\u001b[0m\u001b[1;32m     70\u001b[0m \u001b[0;34m\u001b[0m\u001b[0m\n\u001b[1;32m     71\u001b[0m     \u001b[0;32mdef\u001b[0m \u001b[0m__setitem__\u001b[0m\u001b[0;34m(\u001b[0m\u001b[0mself\u001b[0m\u001b[0;34m,\u001b[0m \u001b[0mkey\u001b[0m\u001b[0;34m,\u001b[0m \u001b[0mvalue\u001b[0m\u001b[0;34m)\u001b[0m\u001b[0;34m:\u001b[0m\u001b[0;34m\u001b[0m\u001b[0m\n",
      "\u001b[0;32m/home/lex/anaconda2/lib/python2.7/site-packages/torch/autograd/_functions/tensor.pyc\u001b[0m in \u001b[0;36mforward\u001b[0;34m(self, i)\u001b[0m\n\u001b[1;32m     14\u001b[0m     \u001b[0;32mdef\u001b[0m \u001b[0mforward\u001b[0m\u001b[0;34m(\u001b[0m\u001b[0mself\u001b[0m\u001b[0;34m,\u001b[0m \u001b[0mi\u001b[0m\u001b[0;34m)\u001b[0m\u001b[0;34m:\u001b[0m\u001b[0;34m\u001b[0m\u001b[0m\n\u001b[1;32m     15\u001b[0m         \u001b[0mself\u001b[0m\u001b[0;34m.\u001b[0m\u001b[0minput_size\u001b[0m \u001b[0;34m=\u001b[0m \u001b[0mi\u001b[0m\u001b[0;34m.\u001b[0m\u001b[0msize\u001b[0m\u001b[0;34m(\u001b[0m\u001b[0;34m)\u001b[0m\u001b[0;34m\u001b[0m\u001b[0m\n\u001b[0;32m---> 16\u001b[0;31m         \u001b[0mresult\u001b[0m \u001b[0;34m=\u001b[0m \u001b[0mi\u001b[0m\u001b[0;34m.\u001b[0m\u001b[0mindex\u001b[0m\u001b[0;34m(\u001b[0m\u001b[0mself\u001b[0m\u001b[0;34m.\u001b[0m\u001b[0mindex\u001b[0m\u001b[0;34m)\u001b[0m\u001b[0;34m\u001b[0m\u001b[0m\n\u001b[0m\u001b[1;32m     17\u001b[0m         \u001b[0mself\u001b[0m\u001b[0;34m.\u001b[0m\u001b[0mmark_shared_storage\u001b[0m\u001b[0;34m(\u001b[0m\u001b[0;34m(\u001b[0m\u001b[0mi\u001b[0m\u001b[0;34m,\u001b[0m \u001b[0mresult\u001b[0m\u001b[0;34m)\u001b[0m\u001b[0;34m)\u001b[0m\u001b[0;34m\u001b[0m\u001b[0m\n\u001b[1;32m     18\u001b[0m         \u001b[0;32mreturn\u001b[0m \u001b[0mresult\u001b[0m\u001b[0;34m\u001b[0m\u001b[0m\n",
      "\u001b[0;31mValueError\u001b[0m: result of slicing is an empty tensor"
     ]
    }
   ],
   "source": [
    "train_in = inputs[:nTrain]\n",
    "train_out = outputs[:nTrain]\n",
    "test_in = inputs[nTrain:]\n",
    "test_out = train_out[nTrain:]"
   ]
  },
  {
   "cell_type": "code",
   "execution_count": 14,
   "metadata": {
    "collapsed": false
   },
   "outputs": [
    {
     "data": {
      "text/plain": [
       "Variable containing:\n",
       " 6.2716e-01  2.5578e-01  6.8538e-01  ...   2.3146e+02 -2.8533e+01  2.5749e+01\n",
       " 5.9159e-01  1.4076e-01  2.8919e-01  ...   2.2796e+02 -2.6270e+01  2.6440e+01\n",
       " 8.7128e-01  1.6904e-01  1.0572e-01  ...   2.3014e+02 -2.7941e+01  2.5344e+01\n",
       "                ...                   ⋱                   ...                \n",
       " 5.8657e-01  1.1650e-01  7.9126e-01  ...   2.2922e+02 -3.1381e+01  2.6517e+01\n",
       " 6.2890e-01  3.5325e-01  5.8741e-01  ...   2.2705e+02 -2.7445e+01  2.5507e+01\n",
       " 1.9810e-01  4.8592e-02  2.2614e-01  ...   2.2708e+02 -2.9340e+01  2.6153e+01\n",
       "[torch.DoubleTensor of size 32633x9]"
      ]
     },
     "execution_count": 14,
     "metadata": {},
     "output_type": "execute_result"
    }
   ],
   "source": [
    "test_in"
   ]
  },
  {
   "cell_type": "code",
   "execution_count": 15,
   "metadata": {
    "collapsed": true
   },
   "outputs": [],
   "source": [
    "test_out = inputs[nTrain:]"
   ]
  },
  {
   "cell_type": "code",
   "execution_count": 17,
   "metadata": {
    "collapsed": false
   },
   "outputs": [
    {
     "data": {
      "text/plain": [
       "94"
      ]
     },
     "execution_count": 17,
     "metadata": {},
     "output_type": "execute_result"
    }
   ],
   "source": [
    "nTrain % 100"
   ]
  },
  {
   "cell_type": "code",
   "execution_count": 18,
   "metadata": {
    "collapsed": false
   },
   "outputs": [
    {
     "data": {
      "text/plain": [
       "2936"
      ]
     },
     "execution_count": 18,
     "metadata": {},
     "output_type": "execute_result"
    }
   ],
   "source": [
    "nTrain/100"
   ]
  },
  {
   "cell_type": "code",
   "execution_count": 23,
   "metadata": {
    "collapsed": false
   },
   "outputs": [],
   "source": [
    "import csv\n",
    "import os\n",
    "fields = ['epoch', 'loss', 'err']\n",
    "trainF = open(os.path.join('save', 'train.csv'), 'w')\n",
    "trainW = csv.writer(trainF)\n",
    "trainW.writerow(fields)\n",
    "trainF.flush()"
   ]
  },
  {
   "cell_type": "code",
   "execution_count": 24,
   "metadata": {
    "collapsed": false
   },
   "outputs": [
    {
     "data": {
      "text/plain": [
       "<open file 'save/train.csv', mode 'w' at 0x7f0eaa546b70>"
      ]
     },
     "execution_count": 24,
     "metadata": {},
     "output_type": "execute_result"
    }
   ],
   "source": [
    "trainF"
   ]
  },
  {
   "cell_type": "code",
   "execution_count": 25,
   "metadata": {
    "collapsed": false
   },
   "outputs": [
    {
     "data": {
      "text/plain": [
       "<_csv.writer at 0x7f0ea8e91c00>"
      ]
     },
     "execution_count": 25,
     "metadata": {},
     "output_type": "execute_result"
    }
   ],
   "source": [
    "trainW"
   ]
  },
  {
   "cell_type": "code",
   "execution_count": 26,
   "metadata": {
    "collapsed": false
   },
   "outputs": [
    {
     "name": "stdout",
     "output_type": "stream",
     "text": [
      "<_csv.writer object at 0x7f0ea8e91c00>\n"
     ]
    }
   ],
   "source": [
    "print(trainW)"
   ]
  },
  {
   "cell_type": "code",
   "execution_count": 29,
   "metadata": {
    "collapsed": false
   },
   "outputs": [],
   "source": [
    "fields = ['epoch', 'loss', 'err']\n",
    "testF = open(os.path.join('save', 'test.csv'), 'w')\n",
    "testW = csv.writer(testF)\n",
    "testW.writerow(fields)\n",
    "testF.flush()"
   ]
  },
  {
   "cell_type": "code",
   "execution_count": 30,
   "metadata": {
    "collapsed": true
   },
   "outputs": [],
   "source": [
    "def split_data(x):\n",
    "\tbase_in, base_out, left_in, left_out, right_in, right_out, x, y, z, pitch, yaw = loadSavedMatFile(x)\n",
    "\tinputs = torch.cat((base_in, base_out, left_in, \n",
    "\t\t\t\t\t\tleft_out, right_in, right_out, \n",
    "\t\t\t\t\t\tz, pitch, yaw), 1)\n",
    "\toutputs = torch.cat((z, pitch, yaw), 1)\n",
    "\n",
    "\tN = int(inputs.size(0))\n",
    "\n",
    "\tnTrain = int(N*(1.-0.1))\n",
    "\tnTest  = N - nTrain\n",
    "\t# print('outputs: \\n', base_in[0:int(k)])\n",
    "\ttrain_in = inputs[:nTrain]\n",
    "\ttrain_out = outputs[:nTrain]\n",
    "\ttest_in = inputs[nTrain:]\n",
    "\ttest_out = inputs[nTrain:]\n",
    "\n",
    "\tbase_idx = torch.LongTensor([1])\n",
    "\t# print(inputs.narrow(0, 0, base_in.size(0)))\n",
    "\n",
    "\treturn train_in, train_out, test_in, test_out"
   ]
  },
  {
   "cell_type": "code",
   "execution_count": 31,
   "metadata": {
    "collapsed": true
   },
   "outputs": [],
   "source": [
    "trainX, trainY, testX, testY = split_data(\"data/data.mat\")"
   ]
  },
  {
   "cell_type": "code",
   "execution_count": 35,
   "metadata": {
    "collapsed": false
   },
   "outputs": [],
   "source": [
    "batchSize = 100\n",
    "\n",
    "batch_data_t = torch.FloatTensor(batchSize, trainX.size(1))\n",
    "batch_targets_t = torch.FloatTensor(batchSize, trainY.size(1))"
   ]
  },
  {
   "cell_type": "code",
   "execution_count": 36,
   "metadata": {
    "collapsed": false
   },
   "outputs": [],
   "source": [
    "batch_data_t = batch_data_t.cuda()\n",
    "batch_targets_t = batch_targets_t.cuda()"
   ]
  },
  {
   "cell_type": "code",
   "execution_count": 37,
   "metadata": {
    "collapsed": false
   },
   "outputs": [
    {
     "data": {
      "text/plain": [
       "\n",
       "\n",
       "Columns 0 to 5 \n",
       "-7.9485e+34  4.5579e-41 -7.9485e+34  4.5579e-41  4.5913e-36  0.0000e+00\n",
       " 6.7262e-44  1.5274e-43  1.2892e-43  1.6395e-43  6.7262e-44  6.7262e-44\n",
       " 6.7262e-44  1.5274e-43  1.2892e-43  1.5414e-43  1.2892e-43  1.6395e-43\n",
       " 1.3733e-43  1.2752e-43  6.8664e-44  8.2677e-44  7.1466e-44  7.0065e-44\n",
       " 4.4842e-44  4.4842e-44  4.4842e-44  4.4842e-44  7.0065e-44  1.2892e-43\n",
       " 6.8664e-44  1.3733e-43  1.2752e-43  6.7262e-44  1.5274e-43  4.4842e-44\n",
       " 6.7262e-44  6.8664e-44  1.3733e-43  1.2752e-43  6.7262e-44  8.2677e-44\n",
       " 1.2892e-43  1.6395e-43  6.7262e-44  6.7262e-44  6.8664e-44  1.3733e-43\n",
       " 1.2892e-43  1.6395e-43  6.7262e-44  6.7262e-44  6.8664e-44  1.3733e-43\n",
       " 1.2892e-43  1.5414e-43  1.2892e-43  1.6395e-43  6.7262e-44  6.7262e-44\n",
       " 6.7262e-44  8.2677e-44  7.1466e-44  7.0065e-44  1.5274e-43  6.3058e-44\n",
       " 8.6881e-44  4.4842e-44  7.1466e-44  1.2892e-43  1.6395e-43  6.7262e-44\n",
       " 1.2752e-43  6.7262e-44  8.2677e-44  7.1466e-44  6.8664e-44  1.5274e-43\n",
       " 6.7262e-44  6.7262e-44  6.8664e-44  1.3733e-43  1.2752e-43  6.7262e-44\n",
       " 1.6255e-43  1.3873e-43  1.4574e-43  1.3312e-43  1.4013e-43  1.3593e-43\n",
       " 1.6255e-43  1.2892e-43  1.6395e-43  6.7262e-44  6.7262e-44  6.8664e-44\n",
       " 1.5274e-43  4.4842e-44  1.2892e-43  1.6395e-43  6.7262e-44  6.7262e-44\n",
       " 6.7262e-44  8.2677e-44  7.1466e-44  7.2868e-44  1.5274e-43  8.5479e-44\n",
       " 6.7262e-44  6.8664e-44  1.3733e-43  1.2752e-43  6.7262e-44  1.5274e-43\n",
       " 6.7262e-44  6.7262e-44  6.8664e-44  1.3733e-43  1.2752e-43  6.7262e-44\n",
       " 1.5975e-43  1.3873e-43  1.4574e-43  1.2892e-43  1.6395e-43  6.7262e-44\n",
       " 1.2752e-43  6.7262e-44  1.5274e-43  1.2892e-43  1.6395e-43  6.7262e-44\n",
       " 1.2752e-43  6.7262e-44  8.2677e-44  7.1466e-44  7.2868e-44  1.5274e-43\n",
       " 6.7262e-44  6.7262e-44  6.8664e-44  1.3733e-43  1.2752e-43  6.7262e-44\n",
       " 6.7262e-44  6.7262e-44  6.8664e-44  1.3733e-43  1.2752e-43  6.7262e-44\n",
       " 1.5554e-43  1.3593e-43  1.6255e-43  1.1771e-43  1.4153e-43  1.5414e-43\n",
       " 1.2892e-43  1.6395e-43  6.7262e-44  6.7262e-44  6.8664e-44  1.3733e-43\n",
       " 1.2892e-43  1.6395e-43  6.7262e-44  6.7262e-44  6.8664e-44  1.3733e-43\n",
       " 7.1466e-44  7.2868e-44  1.5274e-43  5.6052e-44  1.2892e-43  1.6395e-43\n",
       " 1.3733e-43  1.2752e-43  6.7262e-44  1.5274e-43  1.2892e-43  1.6395e-43\n",
       " 1.3733e-43  1.2752e-43  6.7262e-44  1.5274e-43  1.3733e-43  1.3593e-43\n",
       " 1.1631e-43  1.4714e-43  1.7096e-43  1.4153e-43  1.2892e-43  1.6395e-43\n",
       " 1.3733e-43  1.2752e-43  6.7262e-44  1.5274e-43  1.2892e-43  1.6395e-43\n",
       " 1.3733e-43  1.2752e-43  6.7262e-44  8.2677e-44  7.1466e-44  7.2868e-44\n",
       " 1.6395e-43  6.7262e-44  6.7262e-44  6.8664e-44  1.3733e-43  1.2752e-43\n",
       " 1.2892e-43  1.6395e-43  6.7262e-44  6.7262e-44  6.8664e-44  1.3733e-43\n",
       " 1.6255e-43  1.5975e-43  1.3593e-43  1.4714e-43  1.5414e-43  1.2331e-43\n",
       " 6.7262e-44  6.8664e-44  1.3733e-43  1.2752e-43  6.7262e-44  1.5274e-43\n",
       " 6.7262e-44  6.8664e-44  1.3733e-43  1.2752e-43  6.7262e-44  8.2677e-44\n",
       " 6.4460e-44  1.2892e-43  1.6395e-43  6.7262e-44  6.7262e-44  6.8664e-44\n",
       " 1.5274e-43  1.2892e-43  1.6395e-43  6.7262e-44  6.7262e-44  6.8664e-44\n",
       " 1.5274e-43  1.6115e-43  1.4714e-43  1.7096e-43  1.4153e-43  1.2892e-43\n",
       " 6.8664e-44  1.3733e-43  1.2752e-43  6.7262e-44  1.5274e-43  1.2892e-43\n",
       " 6.8664e-44  1.3733e-43  1.2752e-43  6.7262e-44  8.2677e-44  7.1466e-44\n",
       " 1.2892e-43  1.6395e-43  6.7262e-44  6.7262e-44  6.8664e-44  1.3733e-43\n",
       " 1.2892e-43  1.6395e-43  6.7262e-44  6.7262e-44  6.8664e-44  1.3733e-43\n",
       " 7.1466e-44  7.5670e-44  1.5274e-43  6.8664e-44  1.2892e-43  1.6395e-43\n",
       " 1.3733e-43  1.2752e-43  6.7262e-44  1.5274e-43  1.2892e-43  1.6395e-43\n",
       " 1.3733e-43  1.2752e-43  6.7262e-44  8.2677e-44  7.1466e-44  7.2868e-44\n",
       " 1.6395e-43  6.7262e-44  6.7262e-44  6.8664e-44  1.3733e-43  1.2752e-43\n",
       " 1.6395e-43  6.7262e-44  6.7262e-44  6.8664e-44  1.3733e-43  1.2752e-43\n",
       " 7.2868e-44  1.5274e-43  6.1657e-44  1.2892e-43  1.6395e-43  6.7262e-44\n",
       " 1.2752e-43  6.7262e-44  1.5274e-43  4.4842e-44  1.2892e-43  1.6395e-43\n",
       " 1.3733e-43  1.2752e-43  6.7262e-44  1.5274e-43  1.6255e-43  1.5975e-43\n",
       " 1.2331e-43  1.2892e-43  1.6395e-43  6.7262e-44  6.7262e-44  6.8664e-44\n",
       " 1.5274e-43  1.2892e-43  1.6395e-43  6.7262e-44  6.7262e-44  6.8664e-44\n",
       " 8.2677e-44  7.1466e-44  7.2868e-44  1.5274e-43  6.4460e-44  1.2892e-43\n",
       " 6.8664e-44  1.3733e-43  1.2752e-43  6.7262e-44  1.5274e-43  1.2892e-43\n",
       " 6.8664e-44  1.3733e-43  1.2752e-43  6.7262e-44  1.5274e-43  1.6115e-43\n",
       " 1.2892e-43  1.6395e-43  6.7262e-44  6.7262e-44  6.8664e-44  1.3733e-43\n",
       " 1.2892e-43  1.6395e-43  6.7262e-44  6.7262e-44  6.8664e-44  1.3733e-43\n",
       " 7.1466e-44  7.2868e-44  1.5274e-43  5.6052e-44  1.2892e-43  1.6395e-43\n",
       " 1.3733e-43  1.2752e-43  6.7262e-44  1.5274e-43  1.2892e-43  1.6395e-43\n",
       " 1.3733e-43  1.2752e-43  6.7262e-44  8.2677e-44  7.1466e-44  7.5670e-44\n",
       " 1.6395e-43  6.7262e-44  6.7262e-44  6.8664e-44  1.3733e-43  1.2752e-43\n",
       " 1.6395e-43  6.7262e-44  6.7262e-44  6.8664e-44  1.3733e-43  1.2752e-43\n",
       " 7.2868e-44  1.5274e-43  5.7453e-44  1.2892e-43  1.6395e-43  6.7262e-44\n",
       " 1.2752e-43  6.7262e-44  1.5274e-43  1.2892e-43  1.6395e-43  6.7262e-44\n",
       " 1.2752e-43  6.7262e-44  8.2677e-44  7.1466e-44  7.2868e-44  1.5274e-43\n",
       " 6.7262e-44  6.7262e-44  6.8664e-44  1.3733e-43  1.2752e-43  6.7262e-44\n",
       " 6.7262e-44  6.7262e-44  6.8664e-44  1.3733e-43  1.2752e-43  6.7262e-44\n",
       " 1.5274e-43  1.2892e-43  1.6395e-43  6.7262e-44  6.7262e-44  6.8664e-44\n",
       " 1.5274e-43  1.2892e-43  1.6395e-43  6.7262e-44  6.7262e-44  6.8664e-44\n",
       " 1.5274e-43  1.2892e-43  1.5414e-43  1.2892e-43  1.6395e-43  6.7262e-44\n",
       " 1.2752e-43  6.7262e-44  1.5274e-43  1.2892e-43  1.6395e-43  6.7262e-44\n",
       " 1.2752e-43  6.8664e-44  8.2677e-44  7.1466e-44  7.0065e-44  1.5274e-43\n",
       " 4.4842e-44  4.4842e-44  4.4842e-44  7.2868e-44  1.2892e-43  1.6395e-43\n",
       " 1.3733e-43  1.2752e-43  6.7262e-44  1.5274e-43  4.4842e-44  1.2892e-43\n",
       " 6.8664e-44  1.3733e-43  1.2752e-43  6.7262e-44  1.5274e-43  1.3733e-43\n",
       " 1.4574e-43  1.3312e-43  1.6255e-43  1.3593e-43  1.5975e-43  1.4433e-43\n",
       " 1.3312e-43  1.6255e-43  1.2892e-43  1.6395e-43  6.7262e-44  6.7262e-44\n",
       " 6.7262e-44  1.5274e-43  4.4842e-44  1.2892e-43  1.6395e-43  6.7262e-44\n",
       " 1.2752e-43  6.7262e-44  8.2677e-44  7.1466e-44  7.2868e-44  1.5274e-43\n",
       " 6.7262e-44  6.7262e-44  6.8664e-44  1.3733e-43  1.2752e-43  6.7262e-44\n",
       " 1.6395e-43  6.7262e-44  6.7262e-44  6.8664e-44  1.3733e-43  1.2752e-43\n",
       " 1.5554e-43  1.5975e-43  1.3873e-43  1.4574e-43  1.2892e-43  1.6395e-43\n",
       " 1.3733e-43  1.2752e-43  6.7262e-44  1.5274e-43  1.2892e-43  1.6395e-43\n",
       " 1.3733e-43  1.2752e-43  6.7262e-44  8.2677e-44  7.1466e-44  7.2868e-44\n",
       " 1.6395e-43  6.7262e-44  6.7262e-44  6.8664e-44  1.3733e-43  1.2752e-43\n",
       " 1.6395e-43  6.7262e-44  6.7262e-44  6.8664e-44  1.3733e-43  1.2752e-43\n",
       " 5.7860e-42  0.0000e+00 -7.9476e+34  4.5579e-41 -7.9476e+34  4.5579e-41\n",
       " 0.0000e+00  1.2892e-43  1.6395e-43  6.7262e-44  6.7262e-44  6.8664e-44\n",
       " 1.5274e-43  1.2892e-43  1.6395e-43  6.7262e-44  6.7262e-44  6.8664e-44\n",
       " 8.2677e-44  7.1466e-44  7.2868e-44  1.5274e-43  5.6052e-44  1.2892e-43\n",
       " 6.8664e-44  1.3733e-43  1.2752e-43  6.7262e-44  1.5274e-43  1.2892e-43\n",
       " 6.8664e-44  1.3733e-43  1.2752e-43  6.7262e-44  1.5274e-43  1.3733e-43\n",
       " 1.4574e-43  1.1631e-43  1.4714e-43  1.7096e-43  1.4153e-43  1.2892e-43\n",
       " 6.8664e-44  1.3733e-43  1.2752e-43  6.7262e-44  1.5274e-43  1.2892e-43\n",
       " 6.8664e-44  1.3733e-43  1.2752e-43  6.7262e-44  8.2677e-44  7.1466e-44\n",
       " 1.2892e-43  1.6395e-43  6.7262e-44  6.7262e-44  6.8664e-44  1.3733e-43\n",
       "\n",
       "Columns 6 to 8 \n",
       " 4.5913e-36  0.0000e+00  1.2752e-43\n",
       " 6.8664e-44  1.3733e-43  1.2752e-43\n",
       " 6.7262e-44  6.7262e-44  6.8664e-44\n",
       " 1.5274e-43  4.4842e-44  4.4842e-44\n",
       " 1.6395e-43  6.7262e-44  6.7262e-44\n",
       " 1.2892e-43  1.6395e-43  6.7262e-44\n",
       " 7.1466e-44  7.2868e-44  1.5274e-43\n",
       " 1.2752e-43  6.7262e-44  1.5274e-43\n",
       " 1.2752e-43  6.7262e-44  1.5274e-43\n",
       " 6.8664e-44  1.3733e-43  1.2752e-43\n",
       " 6.3058e-44  6.3058e-44  6.3058e-44\n",
       " 6.7262e-44  6.8664e-44  1.3733e-43\n",
       " 4.4842e-44  1.2892e-43  1.6395e-43\n",
       " 1.5274e-43  1.3733e-43  1.3593e-43\n",
       " 1.6255e-43  1.3593e-43  1.3312e-43\n",
       " 1.3733e-43  1.2752e-43  6.7262e-44\n",
       " 6.8664e-44  1.3733e-43  1.2752e-43\n",
       " 1.2892e-43  1.6395e-43  6.7262e-44\n",
       " 4.4842e-44  1.2892e-43  1.6395e-43\n",
       " 1.5274e-43  1.6255e-43  1.5554e-43\n",
       " 6.7262e-44  6.8664e-44  1.3733e-43\n",
       " 6.7262e-44  6.8664e-44  1.3733e-43\n",
       " 6.4460e-44  1.2892e-43  1.6395e-43\n",
       " 1.5274e-43  1.2892e-43  1.6395e-43\n",
       " 1.5274e-43  9.8091e-44  1.5134e-43\n",
       " 1.6115e-43  1.5554e-43  1.5975e-43\n",
       " 1.2752e-43  6.7262e-44  1.5274e-43\n",
       " 1.2752e-43  6.7262e-44  8.2677e-44\n",
       " 6.7262e-44  6.7262e-44  6.8664e-44\n",
       " 6.7262e-44  6.7262e-44  6.8664e-44\n",
       " 1.6255e-43  1.3873e-43  1.4574e-43\n",
       " 6.7262e-44  6.7262e-44  6.8664e-44\n",
       " 6.7262e-44  6.7262e-44  6.8664e-44\n",
       " 1.5274e-43  6.1657e-44  1.2892e-43\n",
       " 6.7262e-44  1.5274e-43  4.4842e-44\n",
       " 1.2752e-43  6.7262e-44  1.5274e-43\n",
       " 1.2892e-43  1.6395e-43  6.7262e-44\n",
       " 1.2892e-43  1.6395e-43  6.7262e-44\n",
       " 7.1466e-44  7.2868e-44  1.5274e-43\n",
       " 1.3733e-43  1.2752e-43  6.7262e-44\n",
       " 1.3733e-43  1.2752e-43  6.7262e-44\n",
       " 1.6395e-43  6.7262e-44  6.7262e-44\n",
       " 1.6395e-43  6.7262e-44  6.7262e-44\n",
       " 7.2868e-44  1.5274e-43  5.6052e-44\n",
       " 1.2752e-43  6.7262e-44  1.5274e-43\n",
       " 1.2752e-43  6.7262e-44  8.2677e-44\n",
       " 6.7262e-44  6.7262e-44  6.8664e-44\n",
       " 6.7262e-44  6.7262e-44  6.8664e-44\n",
       " 1.5274e-43  5.7453e-44  1.2892e-43\n",
       " 6.7262e-44  1.5274e-43  1.2892e-43\n",
       " 6.7262e-44  8.2677e-44  7.1466e-44\n",
       " 6.7262e-44  6.8664e-44  1.3733e-43\n",
       " 6.7262e-44  6.7262e-44  6.8664e-44\n",
       " 1.3593e-43  1.4714e-43  1.5414e-43\n",
       " 1.3733e-43  1.2752e-43  6.7262e-44\n",
       " 1.3733e-43  1.2752e-43  6.7262e-44\n",
       " 1.6395e-43  6.7262e-44  6.7262e-44\n",
       " 1.6395e-43  6.7262e-44  6.7262e-44\n",
       " 1.4714e-43  1.7096e-43  1.4153e-43\n",
       " 1.2752e-43  6.7262e-44  1.5274e-43\n",
       " 1.2752e-43  6.7262e-44  8.2677e-44\n",
       " 6.7262e-44  6.7262e-44  6.8664e-44\n",
       " 6.7262e-44  6.7262e-44  6.8664e-44\n",
       " 1.5274e-43  7.0065e-44  1.2892e-43\n",
       " 6.7262e-44  1.5274e-43  1.2892e-43\n",
       " 6.7262e-44  8.2677e-44  7.1466e-44\n",
       " 6.7262e-44  6.8664e-44  1.3733e-43\n",
       " 6.7262e-44  6.8664e-44  1.3733e-43\n",
       " 5.7453e-44  1.2892e-43  1.6395e-43\n",
       " 1.5274e-43  1.2892e-43  1.6395e-43\n",
       " 8.2677e-44  7.1466e-44  7.2868e-44\n",
       " 1.3733e-43  1.2752e-43  6.7262e-44\n",
       " 1.3733e-43  1.2752e-43  6.7262e-44\n",
       " 6.7262e-44  6.8664e-44  1.3733e-43\n",
       " 6.7262e-44  6.8664e-44  1.3733e-43\n",
       " 4.4842e-44  4.4842e-44  4.4842e-44\n",
       " 6.7262e-44  6.7262e-44  6.8664e-44\n",
       " 1.6395e-43  6.7262e-44  6.7262e-44\n",
       " 1.3593e-43  1.6255e-43  1.3873e-43\n",
       " 1.4153e-43  1.6255e-43  1.6115e-43\n",
       " 6.8664e-44  1.3733e-43  1.2752e-43\n",
       " 6.7262e-44  6.8664e-44  1.3733e-43\n",
       " 8.5479e-44  1.2892e-43  1.6395e-43\n",
       " 1.5274e-43  4.4842e-44  1.2892e-43\n",
       " 6.7262e-44  1.5274e-43  1.6255e-43\n",
       " 6.7262e-44  6.7262e-44  6.8664e-44\n",
       " 6.7262e-44  6.7262e-44  6.8664e-44\n",
       " 1.5274e-43  6.4460e-44  1.2892e-43\n",
       " 6.7262e-44  1.5274e-43  1.2892e-43\n",
       " 6.7262e-44  1.5274e-43  9.8091e-44\n",
       " 0.0000e+00  0.0000e+00  0.0000e+00\n",
       " 1.3733e-43  1.2752e-43  6.7262e-44\n",
       " 1.3733e-43  1.2752e-43  6.7262e-44\n",
       " 1.6395e-43  6.7262e-44  6.7262e-44\n",
       " 1.6395e-43  6.7262e-44  6.7262e-44\n",
       " 1.3593e-43  1.6255e-43  1.3873e-43\n",
       " 1.6395e-43  6.7262e-44  6.7262e-44\n",
       " 1.6395e-43  6.7262e-44  6.7262e-44\n",
       " 7.2868e-44  1.5274e-43  6.1657e-44\n",
       " 1.2752e-43  6.7262e-44  1.5274e-43\n",
       "[torch.cuda.FloatTensor of size 100x9 (GPU 0)]"
      ]
     },
     "execution_count": 37,
     "metadata": {},
     "output_type": "execute_result"
    }
   ],
   "source": [
    "batch_data_t"
   ]
  },
  {
   "cell_type": "code",
   "execution_count": 38,
   "metadata": {
    "collapsed": true
   },
   "outputs": [],
   "source": [
    "batch_data = Variable(batch_data_t, requires_grad=False)\n",
    "batch_targets = Variable(batch_targets_t, requires_grad=False)"
   ]
  },
  {
   "cell_type": "code",
   "execution_count": 45,
   "metadata": {
    "collapsed": false
   },
   "outputs": [
    {
     "data": {
      "text/plain": [
       "torch.Size([100, 9])"
      ]
     },
     "execution_count": 45,
     "metadata": {},
     "output_type": "execute_result"
    }
   ],
   "source": [
    "batch_data.size()"
   ]
  },
  {
   "cell_type": "code",
   "execution_count": 98,
   "metadata": {
    "collapsed": false
   },
   "outputs": [
    {
     "name": "stdout",
     "output_type": "stream",
     "text": [
      "50\n"
     ]
    },
    {
     "ename": "RuntimeError",
     "evalue": "inconsistent tensor size at /home/lex/Documents/NNs/locuslab-pytorch/torch/lib/TH/generic/THTensorCopy.c:52",
     "output_type": "error",
     "traceback": [
      "\u001b[0;31m----------------------------------------------------\u001b[0m",
      "\u001b[0;31mRuntimeError\u001b[0m       Traceback (most recent call last)",
      "\u001b[0;32m<ipython-input-98-3201525f99cd>\u001b[0m in \u001b[0;36m<module>\u001b[0;34m()\u001b[0m\n\u001b[1;32m      9\u001b[0m \u001b[0;32mprint\u001b[0m \u001b[0mbatchSz\u001b[0m\u001b[0;34m\u001b[0m\u001b[0m\n\u001b[1;32m     10\u001b[0m \u001b[0;32mfor\u001b[0m \u001b[0mi\u001b[0m \u001b[0;32min\u001b[0m \u001b[0mrange\u001b[0m\u001b[0;34m(\u001b[0m\u001b[0;36m0\u001b[0m\u001b[0;34m,\u001b[0m \u001b[0mtrainX\u001b[0m\u001b[0;34m.\u001b[0m\u001b[0msize\u001b[0m\u001b[0;34m(\u001b[0m\u001b[0;36m0\u001b[0m\u001b[0;34m)\u001b[0m\u001b[0;34m,\u001b[0m \u001b[0mbatchSz\u001b[0m\u001b[0;34m)\u001b[0m\u001b[0;34m:\u001b[0m\u001b[0;34m\u001b[0m\u001b[0m\n\u001b[0;32m---> 11\u001b[0;31m         \u001b[0mbatch_data\u001b[0m\u001b[0;34m[\u001b[0m\u001b[0;34m:\u001b[0m\u001b[0;34m]\u001b[0m \u001b[0;34m=\u001b[0m \u001b[0mtrainX\u001b[0m\u001b[0;34m[\u001b[0m\u001b[0mi\u001b[0m\u001b[0;34m:\u001b[0m\u001b[0mi\u001b[0m\u001b[0;34m+\u001b[0m\u001b[0mbatchSz\u001b[0m\u001b[0;34m]\u001b[0m\u001b[0;34m\u001b[0m\u001b[0m\n\u001b[0m\u001b[1;32m     12\u001b[0m         \u001b[0;31m#batch_targets.data[:] = trainY[i:i+batchSz]\u001b[0m\u001b[0;34m\u001b[0m\u001b[0;34m\u001b[0m\u001b[0m\n",
      "\u001b[0;32m/home/lex/anaconda2/lib/python2.7/site-packages/torch/autograd/variable.pyc\u001b[0m in \u001b[0;36m__setitem__\u001b[0;34m(self, key, value)\u001b[0m\n\u001b[1;32m     78\u001b[0m         \u001b[0;32melse\u001b[0m\u001b[0;34m:\u001b[0m\u001b[0;34m\u001b[0m\u001b[0m\n\u001b[1;32m     79\u001b[0m             \u001b[0;32mif\u001b[0m \u001b[0misinstance\u001b[0m\u001b[0;34m(\u001b[0m\u001b[0mvalue\u001b[0m\u001b[0;34m,\u001b[0m \u001b[0mVariable\u001b[0m\u001b[0;34m)\u001b[0m\u001b[0;34m:\u001b[0m\u001b[0;34m\u001b[0m\u001b[0m\n\u001b[0;32m---> 80\u001b[0;31m                 \u001b[0;32mreturn\u001b[0m \u001b[0mSetItem\u001b[0m\u001b[0;34m(\u001b[0m\u001b[0mkey\u001b[0m\u001b[0;34m)\u001b[0m\u001b[0;34m(\u001b[0m\u001b[0mself\u001b[0m\u001b[0;34m,\u001b[0m \u001b[0mvalue\u001b[0m\u001b[0;34m)\u001b[0m\u001b[0;34m\u001b[0m\u001b[0m\n\u001b[0m\u001b[1;32m     81\u001b[0m             \u001b[0;32melse\u001b[0m\u001b[0;34m:\u001b[0m\u001b[0;34m\u001b[0m\u001b[0m\n\u001b[1;32m     82\u001b[0m                 \u001b[0;32mreturn\u001b[0m \u001b[0mSetItem\u001b[0m\u001b[0;34m(\u001b[0m\u001b[0mkey\u001b[0m\u001b[0;34m,\u001b[0m \u001b[0mvalue\u001b[0m\u001b[0;34m)\u001b[0m\u001b[0;34m(\u001b[0m\u001b[0mself\u001b[0m\u001b[0;34m)\u001b[0m\u001b[0;34m\u001b[0m\u001b[0m\n",
      "\u001b[0;32m/home/lex/anaconda2/lib/python2.7/site-packages/torch/autograd/_functions/tensor.pyc\u001b[0m in \u001b[0;36mforward\u001b[0;34m(self, i, value)\u001b[0m\n\u001b[1;32m     35\u001b[0m         \u001b[0;32mif\u001b[0m \u001b[0mvalue\u001b[0m \u001b[0;32mis\u001b[0m \u001b[0mNone\u001b[0m\u001b[0;34m:\u001b[0m\u001b[0;34m\u001b[0m\u001b[0m\n\u001b[1;32m     36\u001b[0m             \u001b[0mvalue\u001b[0m \u001b[0;34m=\u001b[0m \u001b[0mself\u001b[0m\u001b[0;34m.\u001b[0m\u001b[0mvalue\u001b[0m\u001b[0;34m\u001b[0m\u001b[0m\n\u001b[0;32m---> 37\u001b[0;31m         \u001b[0mi\u001b[0m\u001b[0;34m.\u001b[0m\u001b[0m_set_index\u001b[0m\u001b[0;34m(\u001b[0m\u001b[0mself\u001b[0m\u001b[0;34m.\u001b[0m\u001b[0mindex\u001b[0m\u001b[0;34m,\u001b[0m \u001b[0mvalue\u001b[0m\u001b[0;34m)\u001b[0m\u001b[0;34m\u001b[0m\u001b[0m\n\u001b[0m\u001b[1;32m     38\u001b[0m         \u001b[0;32mreturn\u001b[0m \u001b[0mi\u001b[0m\u001b[0;34m\u001b[0m\u001b[0m\n\u001b[1;32m     39\u001b[0m \u001b[0;34m\u001b[0m\u001b[0m\n",
      "\u001b[0;31mRuntimeError\u001b[0m: inconsistent tensor size at /home/lex/Documents/NNs/locuslab-pytorch/torch/lib/TH/generic/THTensorCopy.c:52"
     ]
    }
   ],
   "source": [
    "batchSize = 50\n",
    "batch_data_t = torch.DoubleTensor(batchSize, trainX.size(1))\n",
    "batch_targets_t = torch.DoubleTensor(batchSize, trainY.size(1))\n",
    "\n",
    "batch_data = Variable(batch_data_t, requires_grad=False)\n",
    "batch_targets = Variable(batch_targets_t, requires_grad=False)\n",
    "\n",
    "batchSz = batchSize\n",
    "print batchSz\n",
    "for i in range(0, trainX.size(0), batchSz):\n",
    "\tbatch_data[:] = trainX[i:i+batchSz]\n",
    "\t#batch_targets.data[:] = trainY[i:i+batchSz]"
   ]
  },
  {
   "cell_type": "code",
   "execution_count": 89,
   "metadata": {
    "collapsed": false
   },
   "outputs": [
    {
     "ename": "SyntaxError",
     "evalue": "invalid syntax (<ipython-input-89-e4784374e9f0>, line 6)",
     "output_type": "error",
     "traceback": [
      "\u001b[0;36m  File \u001b[0;32m\"<ipython-input-89-e4784374e9f0>\"\u001b[0;36m, line \u001b[0;32m6\u001b[0m\n\u001b[0;31m    batch_targets = Variable(batch_targets_t, requires_grad=False)\u001b[0m\n\u001b[0m                ^\u001b[0m\n\u001b[0;31mSyntaxError\u001b[0m\u001b[0;31m:\u001b[0m invalid syntax\n"
     ]
    }
   ],
   "source": [
    "batchSize = 50\n",
    "batch_data_t = torch.DoubleTensor(batchSize, trainX.size(1))\n",
    "batch_targets_t = torch.DoubleTensor(batchSize,\n",
    "\n",
    "batch_data = Variable(batch_data_t, requires_grad=False)\n",
    "batch_targets = Variable(batch_targets_t, requires_grad=False)\n",
    "\n",
    "for i in range(0, trainX.size(0), batchSz):\n",
    "\tbatch_data.data[:] = trainX[i:i+batchSz]\n",
    "\tbatch_targets.data[:] = trainY[i:i+batchSz]"
   ]
  },
  {
   "cell_type": "code",
   "execution_count": 99,
   "metadata": {
    "collapsed": false
   },
   "outputs": [
    {
     "data": {
      "text/plain": [
       "torch.Size([293694, 9])"
      ]
     },
     "execution_count": 99,
     "metadata": {},
     "output_type": "execute_result"
    }
   ],
   "source": [
    "trainX.size()"
   ]
  },
  {
   "cell_type": "code",
   "execution_count": 100,
   "metadata": {
    "collapsed": false
   },
   "outputs": [
    {
     "data": {
      "text/plain": [
       "torch.Size([100, 9])"
      ]
     },
     "execution_count": 100,
     "metadata": {},
     "output_type": "execute_result"
    }
   ],
   "source": [
    "trainX[0:0+100].size()"
   ]
  },
  {
   "cell_type": "code",
   "execution_count": 102,
   "metadata": {
    "collapsed": false
   },
   "outputs": [
    {
     "data": {
      "text/plain": [
       "torch.Size([50, 9])"
      ]
     },
     "execution_count": 102,
     "metadata": {},
     "output_type": "execute_result"
    }
   ],
   "source": [
    "batch_data_t = torch.DoubleTensor(batchSize, trainX.size(1))\n",
    "batch_data_t.size()"
   ]
  },
  {
   "cell_type": "code",
   "execution_count": 103,
   "metadata": {
    "collapsed": true
   },
   "outputs": [],
   "source": [
    "batch_data = Variable(batch_data_t, requires_grad=False)"
   ]
  },
  {
   "cell_type": "code",
   "execution_count": 105,
   "metadata": {
    "collapsed": false
   },
   "outputs": [
    {
     "data": {
      "text/plain": [
       "torch.Size([50, 9])"
      ]
     },
     "execution_count": 105,
     "metadata": {},
     "output_type": "execute_result"
    }
   ],
   "source": [
    "batch_data.size()"
   ]
  },
  {
   "cell_type": "code",
   "execution_count": 123,
   "metadata": {
    "collapsed": false
   },
   "outputs": [],
   "source": [
    "batch_data[:] = trainX.data[0:0+batchSz]"
   ]
  },
  {
   "cell_type": "code",
   "execution_count": 126,
   "metadata": {
    "collapsed": false
   },
   "outputs": [
    {
     "ename": "RuntimeError",
     "evalue": "inconsistent tensor size at /home/lex/Documents/NNs/locuslab-pytorch/torch/lib/TH/generic/THTensorCopy.c:52",
     "output_type": "error",
     "traceback": [
      "\u001b[0;31m----------------------------------------------------\u001b[0m",
      "\u001b[0;31mRuntimeError\u001b[0m       Traceback (most recent call last)",
      "\u001b[0;32m<ipython-input-126-5fe8f13aa37f>\u001b[0m in \u001b[0;36m<module>\u001b[0;34m()\u001b[0m\n\u001b[1;32m      1\u001b[0m \u001b[0;32mfor\u001b[0m \u001b[0mi\u001b[0m \u001b[0;32min\u001b[0m \u001b[0mrange\u001b[0m\u001b[0;34m(\u001b[0m\u001b[0;36m0\u001b[0m\u001b[0;34m,\u001b[0m \u001b[0mtrainX\u001b[0m\u001b[0;34m.\u001b[0m\u001b[0msize\u001b[0m\u001b[0;34m(\u001b[0m\u001b[0;36m0\u001b[0m\u001b[0;34m)\u001b[0m\u001b[0;34m,\u001b[0m \u001b[0mbatchSz\u001b[0m\u001b[0;34m)\u001b[0m\u001b[0;34m:\u001b[0m\u001b[0;34m\u001b[0m\u001b[0m\n\u001b[0;32m----> 2\u001b[0;31m         \u001b[0mbatch_data\u001b[0m\u001b[0;34m[\u001b[0m\u001b[0;34m:\u001b[0m\u001b[0;34m]\u001b[0m \u001b[0;34m=\u001b[0m \u001b[0mtrainX\u001b[0m\u001b[0;34m.\u001b[0m\u001b[0mdata\u001b[0m\u001b[0;34m[\u001b[0m\u001b[0mi\u001b[0m\u001b[0;34m:\u001b[0m\u001b[0mi\u001b[0m\u001b[0;34m+\u001b[0m\u001b[0mbatchSz\u001b[0m\u001b[0;34m]\u001b[0m\u001b[0;34m\u001b[0m\u001b[0m\n\u001b[0m\u001b[1;32m      3\u001b[0m         \u001b[0mbatch_targets\u001b[0m\u001b[0;34m[\u001b[0m\u001b[0;34m:\u001b[0m\u001b[0;34m]\u001b[0m \u001b[0;34m=\u001b[0m \u001b[0mtrainY\u001b[0m\u001b[0;34m.\u001b[0m\u001b[0mdata\u001b[0m\u001b[0;34m[\u001b[0m\u001b[0mi\u001b[0m\u001b[0;34m:\u001b[0m\u001b[0mi\u001b[0m\u001b[0;34m+\u001b[0m\u001b[0mbatchSz\u001b[0m\u001b[0;34m]\u001b[0m\u001b[0;34m\u001b[0m\u001b[0m\n",
      "\u001b[0;32m/home/lex/anaconda2/lib/python2.7/site-packages/torch/autograd/variable.pyc\u001b[0m in \u001b[0;36m__setitem__\u001b[0;34m(self, key, value)\u001b[0m\n\u001b[1;32m     80\u001b[0m                 \u001b[0;32mreturn\u001b[0m \u001b[0mSetItem\u001b[0m\u001b[0;34m(\u001b[0m\u001b[0mkey\u001b[0m\u001b[0;34m)\u001b[0m\u001b[0;34m(\u001b[0m\u001b[0mself\u001b[0m\u001b[0;34m,\u001b[0m \u001b[0mvalue\u001b[0m\u001b[0;34m)\u001b[0m\u001b[0;34m\u001b[0m\u001b[0m\n\u001b[1;32m     81\u001b[0m             \u001b[0;32melse\u001b[0m\u001b[0;34m:\u001b[0m\u001b[0;34m\u001b[0m\u001b[0m\n\u001b[0;32m---> 82\u001b[0;31m                 \u001b[0;32mreturn\u001b[0m \u001b[0mSetItem\u001b[0m\u001b[0;34m(\u001b[0m\u001b[0mkey\u001b[0m\u001b[0;34m,\u001b[0m \u001b[0mvalue\u001b[0m\u001b[0;34m)\u001b[0m\u001b[0;34m(\u001b[0m\u001b[0mself\u001b[0m\u001b[0;34m)\u001b[0m\u001b[0;34m\u001b[0m\u001b[0m\n\u001b[0m\u001b[1;32m     83\u001b[0m \u001b[0;34m\u001b[0m\u001b[0m\n\u001b[1;32m     84\u001b[0m     \u001b[0;32mdef\u001b[0m \u001b[0m__deepcopy__\u001b[0m\u001b[0;34m(\u001b[0m\u001b[0mself\u001b[0m\u001b[0;34m,\u001b[0m \u001b[0mmemo\u001b[0m\u001b[0;34m)\u001b[0m\u001b[0;34m:\u001b[0m\u001b[0;34m\u001b[0m\u001b[0m\n",
      "\u001b[0;32m/home/lex/anaconda2/lib/python2.7/site-packages/torch/autograd/_functions/tensor.pyc\u001b[0m in \u001b[0;36mforward\u001b[0;34m(self, i, value)\u001b[0m\n\u001b[1;32m     35\u001b[0m         \u001b[0;32mif\u001b[0m \u001b[0mvalue\u001b[0m \u001b[0;32mis\u001b[0m \u001b[0mNone\u001b[0m\u001b[0;34m:\u001b[0m\u001b[0;34m\u001b[0m\u001b[0m\n\u001b[1;32m     36\u001b[0m             \u001b[0mvalue\u001b[0m \u001b[0;34m=\u001b[0m \u001b[0mself\u001b[0m\u001b[0;34m.\u001b[0m\u001b[0mvalue\u001b[0m\u001b[0;34m\u001b[0m\u001b[0m\n\u001b[0;32m---> 37\u001b[0;31m         \u001b[0mi\u001b[0m\u001b[0;34m.\u001b[0m\u001b[0m_set_index\u001b[0m\u001b[0;34m(\u001b[0m\u001b[0mself\u001b[0m\u001b[0;34m.\u001b[0m\u001b[0mindex\u001b[0m\u001b[0;34m,\u001b[0m \u001b[0mvalue\u001b[0m\u001b[0;34m)\u001b[0m\u001b[0;34m\u001b[0m\u001b[0m\n\u001b[0m\u001b[1;32m     38\u001b[0m         \u001b[0;32mreturn\u001b[0m \u001b[0mi\u001b[0m\u001b[0;34m\u001b[0m\u001b[0m\n\u001b[1;32m     39\u001b[0m \u001b[0;34m\u001b[0m\u001b[0m\n",
      "\u001b[0;31mRuntimeError\u001b[0m: inconsistent tensor size at /home/lex/Documents/NNs/locuslab-pytorch/torch/lib/TH/generic/THTensorCopy.c:52"
     ]
    }
   ],
   "source": [
    "for i in range(0, trainX.size(0), batchSz):\n",
    "\tbatch_data[:] = trainX.data[i:i+batchSz]\n",
    "\tbatch_targets[:] = trainY.data[i:i+batchSz]"
   ]
  },
  {
   "cell_type": "code",
   "execution_count": null,
   "metadata": {
    "collapsed": true
   },
   "outputs": [],
   "source": []
  }
 ],
 "metadata": {
  "kernelspec": {
   "display_name": "Python 2",
   "language": "python",
   "name": "python2"
  },
  "language_info": {
   "codemirror_mode": {
    "name": "ipython",
    "version": 2
   },
   "file_extension": ".py",
   "mimetype": "text/x-python",
   "name": "python",
   "nbconvert_exporter": "python",
   "pygments_lexer": "ipython2",
   "version": "2.7.13"
  }
 },
 "nbformat": 4,
 "nbformat_minor": 2
}
