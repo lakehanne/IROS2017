{
 "cells": [
  {
   "cell_type": "code",
   "execution_count": 1,
   "metadata": {
    "collapsed": true
   },
   "outputs": [],
   "source": [
    "import bluetooth"
   ]
  },
  {
   "cell_type": "code",
   "execution_count": 2,
   "metadata": {
    "collapsed": true
   },
   "outputs": [],
   "source": [
    "nearby_devices = bluetooth.discover_devices(lookup_names=True)"
   ]
  },
  {
   "cell_type": "code",
   "execution_count": 25,
   "metadata": {
    "collapsed": false
   },
   "outputs": [
    {
     "name": "stdout",
     "output_type": "stream",
     "text": [
      "[('68:86:E7:09:0D:DC', 'Sphero-POB'), ('68:86:E7:09:11:C4', 'Sphero-WWB')]\n",
      "0\n",
      "1\n"
     ]
    }
   ],
   "source": [
    "print nearby_devices\n",
    "for i in range(len(nearby_devices)):\n",
    "    print i"
   ]
  },
  {
   "cell_type": "code",
   "execution_count": 4,
   "metadata": {
    "collapsed": false
   },
   "outputs": [
    {
     "name": "stdout",
     "output_type": "stream",
     "text": [
      "found 2 devices\n"
     ]
    }
   ],
   "source": [
    "\n",
    "print(\"found %d devices\" % len(nearby_devices))"
   ]
  },
  {
   "cell_type": "code",
   "execution_count": 5,
   "metadata": {
    "collapsed": false
   },
   "outputs": [
    {
     "name": "stdout",
     "output_type": "stream",
     "text": [
      "  68:86:E7:09:0D:DC - Sphero-POB\n",
      "  68:86:E7:09:11:C4 - Sphero-WWB\n"
     ]
    }
   ],
   "source": [
    "\n",
    "for addr, name in nearby_devices:\n",
    "    print(\"  %s - %s\" % (addr, name))"
   ]
  },
  {
   "cell_type": "code",
   "execution_count": 21,
   "metadata": {
    "collapsed": false
   },
   "outputs": [
    {
     "name": "stdout",
     "output_type": "stream",
     "text": [
      "{'Sphero-WWB': '68:86:E7:09:11:C4', 'Sphero-POB': '68:86:E7:09:0D:DC'}\n"
     ]
    }
   ],
   "source": [
    "i = 0\n",
    "devicesIDs = {}\n",
    "\n",
    "for bdaddr, name in nearby_devices:\n",
    "    devicesIDs[name] = bdaddr\n",
    "print devicesIDs"
   ]
  },
  {
   "cell_type": "code",
   "execution_count": 45,
   "metadata": {
    "collapsed": false
   },
   "outputs": [
    {
     "name": "stdout",
     "output_type": "stream",
     "text": [
      " 1: found  Sphero-POB - 68:86:E7:09:0D:DC \r\n",
      " 2: found  Sphero-WWB - 68:86:E7:09:11:C4 \r\n",
      "['68:86:E7:09:0D:DC', '68:86:E7:09:11:C4']\n"
     ]
    }
   ],
   "source": [
    "if len(nearby_devices)>0:  #found devices          \n",
    "    # for i in range(len(nearby_devices)):\n",
    "    i, target_address = 0, []\n",
    "    for bdaddr, name in nearby_devices:\n",
    "        #look for a device name that starts with Sphero\n",
    "        if name.startswith('Sphero'):\n",
    "            found_device = True\n",
    "            target_address.insert(i, bdaddr )\n",
    "            i += 1\n",
    "            print(\" %d: found  %s - %s \\r\" % (i,  name, bdaddr))             \n",
    "            devicesIDs[name] = bdaddr\n",
    "        found_device = True\n",
    "        if self.found_device:\n",
    "          break\n",
    "    print target_address"
   ]
  },
  {
   "cell_type": "code",
   "execution_count": null,
   "metadata": {
    "collapsed": true
   },
   "outputs": [],
   "source": []
  }
 ],
 "metadata": {
  "kernelspec": {
   "display_name": "Python 2",
   "language": "python",
   "name": "python2"
  },
  "language_info": {
   "codemirror_mode": {
    "name": "ipython",
    "version": 2
   },
   "file_extension": ".py",
   "mimetype": "text/x-python",
   "name": "python",
   "nbconvert_exporter": "python",
   "pygments_lexer": "ipython2",
   "version": "2.7.13"
  }
 },
 "nbformat": 4,
 "nbformat_minor": 2
}
