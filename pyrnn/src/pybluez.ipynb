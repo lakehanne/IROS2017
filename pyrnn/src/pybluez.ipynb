{
 "cells": [
  {
   "cell_type": "code",
   "execution_count": 1,
   "metadata": {
    "collapsed": true
   },
   "outputs": [],
   "source": [
    "import bluetooth"
   ]
  },
  {
   "cell_type": "code",
   "execution_count": 2,
   "metadata": {
    "collapsed": true
   },
   "outputs": [],
   "source": [
    "nearby_devices = bluetooth.discover_devices(lookup_names=True)"
   ]
  },
  {
   "cell_type": "code",
   "execution_count": 3,
   "metadata": {
    "collapsed": false
   },
   "outputs": [
    {
     "name": "stdout",
     "output_type": "stream",
     "text": [
      "[]\n"
     ]
    }
   ],
   "source": [
    "print nearby_devices\n",
    "for i in range(len(nearby_devices)):\n",
    "    print i"
   ]
  },
  {
   "cell_type": "code",
   "execution_count": 4,
   "metadata": {
    "collapsed": false
   },
   "outputs": [
    {
     "name": "stdout",
     "output_type": "stream",
     "text": [
      "found 0 devices\n"
     ]
    }
   ],
   "source": [
    "print(\"found %d devices\" % len(nearby_devices))"
   ]
  },
  {
   "cell_type": "code",
   "execution_count": 5,
   "metadata": {
    "collapsed": false
   },
   "outputs": [],
   "source": [
    "\n",
    "for addr, name in nearby_devices:\n",
    "    print(\"  %s - %s\" % (addr, name))"
   ]
  },
  {
   "cell_type": "code",
   "execution_count": 6,
   "metadata": {
    "collapsed": false
   },
   "outputs": [
    {
     "name": "stdout",
     "output_type": "stream",
     "text": [
      "{}\n"
     ]
    }
   ],
   "source": [
    "i = 0\n",
    "devicesIDs = {}\n",
    "\n",
    "for bdaddr, name in nearby_devices:\n",
    "    devicesIDs[name] = bdaddr\n",
    "print devicesIDs"
   ]
  },
  {
   "cell_type": "code",
   "execution_count": 7,
   "metadata": {
    "collapsed": false
   },
   "outputs": [],
   "source": [
    "if len(nearby_devices)>0:  #found devices          \n",
    "    # for i in range(len(nearby_devices)):\n",
    "    i, target_address = 0, []\n",
    "    for bdaddr, name in nearby_devices:\n",
    "        #look for a device name that starts with Sphero\n",
    "        if name.startswith('Sphero'):\n",
    "            found_device = True\n",
    "            target_address.insert(i, bdaddr )\n",
    "            i += 1\n",
    "            print(\" %d: found  %s - %s \\r\" % (i,  name, bdaddr))             \n",
    "            devicesIDs[name] = bdaddr\n",
    "            found_device = True\n",
    "    if target_address is not None:\n",
    "        print target_address"
   ]
  },
  {
   "cell_type": "code",
   "execution_count": 8,
   "metadata": {
    "collapsed": false
   },
   "outputs": [],
   "source": [
    "sock=bluetooth.BluetoothSocket(bluetooth.RFCOMM)"
   ]
  },
  {
   "cell_type": "code",
   "execution_count": 9,
   "metadata": {
    "collapsed": false
   },
   "outputs": [],
   "source": [
    "namesAndIDs = devicesIDs\n",
    "port = 1\n",
    "for names, addy in namesAndIDs.iteritems():\n",
    "    print addy\n",
    "    sock.connect((addy, 1))\n",
    "#     port += 1"
   ]
  },
  {
   "cell_type": "code",
   "execution_count": 10,
   "metadata": {
    "collapsed": false
   },
   "outputs": [
    {
     "name": "stdout",
     "output_type": "stream",
     "text": [
      "12\n"
     ]
    }
   ],
   "source": [
    "i = 3\n",
    "print i+9"
   ]
  },
  {
   "cell_type": "code",
   "execution_count": null,
   "metadata": {
    "collapsed": true
   },
   "outputs": [],
   "source": []
  }
 ],
 "metadata": {
  "kernelspec": {
   "display_name": "Python 2",
   "language": "python",
   "name": "python2"
  },
  "language_info": {
   "codemirror_mode": {
    "name": "ipython",
    "version": 2
   },
   "file_extension": ".py",
   "mimetype": "text/x-python",
   "name": "python",
   "nbconvert_exporter": "python",
   "pygments_lexer": "ipython2",
   "version": "2.7.13"
  }
 },
 "nbformat": 4,
 "nbformat_minor": 2
}
