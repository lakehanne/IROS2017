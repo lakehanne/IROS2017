{
 "cells": [
  {
   "cell_type": "code",
   "execution_count": 5,
   "metadata": {},
   "outputs": [],
   "source": [
    "ro, li, bi, bo, li, ro = [], [], [], [], [], []"
   ]
  },
  {
   "cell_type": "code",
   "execution_count": 8,
   "metadata": {},
   "outputs": [
    {
     "data": {
      "text/plain": [
       "[]"
      ]
     },
     "execution_count": 8,
     "metadata": {},
     "output_type": "execute_result"
    }
   ],
   "source": [
    "o = list()\n",
    "o"
   ]
  },
  {
   "cell_type": "code",
   "execution_count": 39,
   "metadata": {},
   "outputs": [
    {
     "name": "stdout",
     "output_type": "stream",
     "text": [
      "(3, 6, 7, 8, 9, 1, 2, 4, 5, 0) (3, 6, 7, 8, 9, 1, 2, 4, 5, 0) (3, 6, 7, 8, 9, 1, 2, 4, 5, 0)\n"
     ]
    }
   ],
   "source": [
    "from random import shuffle\n",
    "import torch\n",
    "a = list(range(10))\n",
    "b = list(range(10))\n",
    "c = list(range(10))\n",
    "d = zip(a, b, c)\n",
    "shuffle(d)\n",
    "a,b,c = zip(*d)\n",
    "at = torch.Tensor(a).unsqueeze(0).t()\n",
    "bt = torch.Tensor(a).unsqueeze(0).t() \n",
    "ct = torch.cat((at, bt), 1)\n",
    "for i in range(10):\n",
    "    if i+2 < 10:\n",
    "        bt[i]= bt[i+2]\n",
    "# print at[:8], bt[:8]\n",
    "ctp = ct[torch.randperm(10)]\n",
    "print a[0, b, c"
   ]
  },
  {
   "cell_type": "code",
   "execution_count": 13,
   "metadata": {},
   "outputs": [
    {
     "name": "stdout",
     "output_type": "stream",
     "text": [
      "Help on function stack in module torch.functional:\n",
      "\n",
      "stack(sequence, dim=0, out=None)\n",
      "    Concatenates sequence of tensors along a new dimension.\n",
      "    \n",
      "    All tensors need to be of the same size.\n",
      "    \n",
      "    Arguments:\n",
      "        sequence (Sequence): sequence of tensors to concatenate.\n",
      "        dim (int): dimension to insert. Has to be between 0 and the number\n",
      "            of dimensions of concatenated tensors (inclusive).\n",
      "\n"
     ]
    }
   ],
   "source": [
    "help(torch.stack)"
   ]
  },
  {
   "cell_type": "code",
   "execution_count": null,
   "metadata": {
    "collapsed": true
   },
   "outputs": [],
   "source": []
  }
 ],
 "metadata": {
  "kernelspec": {
   "display_name": "Python 2",
   "language": "python",
   "name": "python2"
  },
  "language_info": {
   "codemirror_mode": {
    "name": "ipython",
    "version": 2
   },
   "file_extension": ".py",
   "mimetype": "text/x-python",
   "name": "python",
   "nbconvert_exporter": "python",
   "pygments_lexer": "ipython2",
   "version": "2.7.13"
  }
 },
 "nbformat": 4,
 "nbformat_minor": 2
}
